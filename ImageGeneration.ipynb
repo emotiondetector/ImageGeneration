{
  "cells": [
    {
      "cell_type": "code",
      "source": [
        "import cv2\n",
        "import os\n",
        "\n",
        "folder = 310082\n",
        "my_range = 10\n",
        "a = int(input('Enter limit 1: '))\n",
        "b = int(input('Enter limit 2: '))\n",
        "\n",
        "\n",
        "for i in range(a,b):\n",
        "  vidcap = cv2.VideoCapture(f'/content/drive/MyDrive/Emo_dataset/DataSet/Train/'+str(folder)+'/'+str(folder)+str(my_range)+str(i)+'/'+str(folder)+str(my_range)+str(i)+'.avi')\n",
        "  success,image = vidcap.read()\n",
        "  frate = 0\n",
        "  count = 0\n",
        "  while success:\n",
        "    path = '/content/drive/MyDrive/Emotion_images/Train'\n",
        "    cv2.imwrite(os.path.join(path,f'Train_{folder}{my_range}{i}_{count}.jpg'), image)     # save frame as JPEG file\n",
        "    vidcap.set(cv2.CAP_PROP_POS_MSEC,(frate*1000))  \n",
        "    success,image = vidcap.read()\n",
        "    count += 1\n",
        "    frate += 1"
      ],
      "metadata": {
        "colab": {
          "base_uri": "https://localhost:8080/"
        },
        "id": "AxliDuNYjPqp",
        "outputId": "da9a4284-d35e-49f9-980c-98df68164dca"
      },
      "execution_count": null,
      "outputs": [
        {
          "name": "stdout",
          "output_type": "stream",
          "text": [
            "Enter limit 1: 30\n",
            "Enter limit 2: 43\n"
          ]
        }
      ]
    },
    {
      "cell_type": "code",
      "source": [
        "import os\n",
        "\n",
        "my_list = os.listdir('/content/drive/MyDrive/Emotion_images/Test') # dir is your directory path\n",
        "print(f'Total Testing images: ',len(my_list))\n",
        "print()\n",
        "my_list = os.listdir('/content/drive/MyDrive/Emotion_images/Train') # dir is your directory path\n",
        "print(f'Total Training images: ',len(my_list))"
      ],
      "metadata": {
        "colab": {
          "base_uri": "https://localhost:8080/"
        },
        "id": "Qzf8km9xPS4e",
        "outputId": "207834df-300a-41a7-d96b-452c4210a4f8"
      },
      "execution_count": null,
      "outputs": [
        {
          "output_type": "stream",
          "name": "stdout",
          "text": [
            "Total Testing images:  4862\n",
            "\n",
            "Total Training images:  9680\n"
          ]
        }
      ]
    }
  ],
  "metadata": {
    "colab": {
      "collapsed_sections": [],
      "name": "Proj.ipynb",
      "provenance": []
    },
    "kernelspec": {
      "display_name": "Python 3",
      "name": "python3"
    },
    "language_info": {
      "name": "python"
    }
  },
  "nbformat": 4,
  "nbformat_minor": 0
}